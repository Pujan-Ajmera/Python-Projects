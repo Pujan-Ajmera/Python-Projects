{
  "nbformat": 4,
  "nbformat_minor": 0,
  "metadata": {
    "colab": {
      "provenance": []
    },
    "kernelspec": {
      "name": "python3",
      "display_name": "Python 3"
    },
    "language_info": {
      "name": "python"
    }
  },
  "cells": [
    {
      "cell_type": "code",
      "execution_count": 1,
      "metadata": {
        "id": "lK1gcqiopzCl"
      },
      "outputs": [],
      "source": [
        "import nltk\n",
        "from nltk.tokenize import sent_tokenize\n",
        "from nltk.stem import PorterStemmer\n",
        "from nltk.corpus import stopwords\n",
        "from heapq import nlargest"
      ]
    },
    {
      "cell_type": "code",
      "source": [
        "# download the stopwords and tokenizers\n",
        "nltk.download('stopwords')\n",
        "nltk.download('punkt')"
      ],
      "metadata": {
        "colab": {
          "base_uri": "https://localhost:8080/"
        },
        "id": "8Btx6skJqXvJ",
        "outputId": "94d9ff7e-3435-411c-a803-e2d3febb4366"
      },
      "execution_count": 7,
      "outputs": [
        {
          "output_type": "stream",
          "name": "stderr",
          "text": [
            "[nltk_data] Downloading package stopwords to /root/nltk_data...\n",
            "[nltk_data]   Package stopwords is already up-to-date!\n",
            "[nltk_data] Downloading package punkt to /root/nltk_data...\n",
            "[nltk_data]   Package punkt is already up-to-date!\n",
            "[nltk_data] Downloading package punkt_tab to /root/nltk_data...\n",
            "[nltk_data]   Unzipping tokenizers/punkt_tab.zip.\n"
          ]
        },
        {
          "output_type": "execute_result",
          "data": {
            "text/plain": [
              "True"
            ]
          },
          "metadata": {},
          "execution_count": 7
        }
      ]
    },
    {
      "cell_type": "code",
      "source": [
        "#  creating a text\n",
        "text = \"\"\"\n",
        "Once upon a time, in a quaint little village nestled beside a whispering forest, lived a curious girl named Elara. Her days were filled with exploring the woods and listening to the ancient trees share their secrets on the breeze. One sunny morning, while chasing a butterfly with wings like stained glass, she stumbled upon a hidden path. It was overgrown and barely visible, but a faint, sweet melody seemed to beckon her forward. With a heart full of wonder and a touch of trepidation, Elara stepped onto the path, ready for whatever adventure awaited her.\n",
        "\n",
        "The path wound deeper into the forest than she had ever gone before. Unlike the familiar trails where hunters brought back firewood or children played hide and seek, this track seemed forgotten by time. Moss covered the stones, and the air was thick with the smell of damp soil. Birds hushed as she passed, and even the insects seemed quieter, as though watching. At first, Elara’s excitement pushed her forward, but after a while, unease crept in. She realized she had not told anyone where she was going. Her mother, who worked long hours weaving baskets for the market, would be worried if she came home late.\n",
        "\n",
        "Still, curiosity pressed her onward. After an hour, the path opened into a clearing she had never seen before. In the middle stood a cottage, not new, but not ruined either. Its walls were made of stone and wood, patched in places, and its roof sagged slightly. Smoke curled from the chimney, and the faint melody she had heard earlier floated from within. Elara hesitated. Every tale the villagers told about strangers in the forest ended with warnings—witches who tricked children, hermits who cursed intruders. Yet something about the house didn’t feel threatening. It felt… tired, like a place forgotten as much as the path itself.\n",
        "\n",
        "She approached cautiously. At the door, she raised her hand to knock but paused when she heard a voice. An old man was humming, the same tune she had followed. Peeking through the cracked window, she saw him: gray-haired, thin, with sharp eyes softened by age. He sat carving wood, shaping it carefully into what looked like a violin. Instruments fascinated Elara, though she had never owned one herself. The village only had one musician, a fiddler who played at festivals.\n",
        "\n",
        "Gathering courage, she knocked. The humming stopped, and footsteps shuffled to the door. The old man opened it slowly, his expression unreadable at first. “Well,” he said, voice gravelly but not unkind, “I never expected visitors on this path.”\n",
        "\n",
        "Elara stammered. “I—I heard your music. I followed it.”\n",
        "\n",
        "He studied her for a long moment before stepping aside. “Then come in. If you’ve followed this far, it seems you were meant to.”\n",
        "\n",
        "Inside, the cottage was cluttered but warm. Shelves overflowed with tools, wood shavings carpeted the floor, and instruments of all kinds hung on the walls—some half-finished, some broken, some gleaming with polish. The man set down the violin he had been working on and gestured to a chair. “Sit, girl. My name is Alaric. And who are you?”\n",
        "\n",
        "“Elara,” she said softly, her eyes darting around in awe. “You make… all these?”\n",
        "\n",
        "He chuckled. “Aye. Once upon a time, people came from far villages to buy them. Music was more valued then. But now, well… people prefer bread to fiddles when times are lean.”\n",
        "\n",
        "They spoke for hours. Elara asked questions, and Alaric answered with stories—not mystical, but grounded in his own life. He had been a traveling musician in his youth, playing in towns across the country. But when war came, music was silenced, and he returned to the forest, carving instruments instead of performing. Loneliness seeped through his words, though he spoke without self-pity.\n",
        "\n",
        "Elara began visiting often. At first, she told no one, fearing her mother would forbid it. But soon, her absences were noticed. One evening, her mother confronted her. “Where do you go, child? You come home with sawdust on your clothes and music in your eyes.”\n",
        "\n",
        "Elara hesitated, then confessed. She expected scolding, but her mother only sighed. “You have your father’s spirit. He, too, wandered where he shouldn’t.” The name stung—Elara’s father had died when she was a baby, a hunter caught in a storm. Her mother rarely spoke of him.\n",
        "\n",
        "In time, the village learned of the cottage. Some were wary, others intrigued. At the next festival, Alaric appeared, carrying a violin he had finished with Elara’s help. He played, and the village listened. The music was simple, yet it carried weight. It was the sound of sorrow, of joy, of years lived and lost. Children danced, elders wept, and for the first time in many years, the festival felt alive.\n",
        "\n",
        "From then on, Alaric became part of the village in small ways. He still lived in the forest, but villagers came to him for repairs, for music, for lessons. Elara, now his apprentice, grew skilled at carving and even began to learn to play. Her world, once confined to the edge of the woods, expanded with each note she played.\n",
        "\n",
        "But not all welcomed the change. Some whispered that music distracted from work, that Elara was wasting her time. A few feared that too much wandering in the forest would awaken dangers best left alone. Tensions simmered, as they often do in small villages. Yet Elara persisted. She had found something real—something that made her feel both connected to the past and reaching toward the future.\n",
        "\n",
        "Years passed. The girl who once chased butterflies grew into a young woman known for her music. The hidden path was no longer forgotten, trodden now by villagers seeking melodies or simply curious to see the old man who had brought music back. Alaric grew weaker with age, but he always smiled when Elara played. On his last evening, when his hands could no longer carve, she played the tune he had hummed the first day they met. He listened, eyes closed, and when the final note lingered in the air, he whispered, “Good. The music will live on.”\n",
        "\n",
        "And it did. Elara became the village’s musician, her songs weaving through daily life—at weddings, at harvests, at quiet nights by the fire. The forest no longer seemed mysterious or dangerous, but a place where memories and melodies were kept alive. And though Alaric was gone, his instruments remained, each one a piece of history carved in wood and sound.\n",
        "\n",
        "Elara never stopped wandering, never stopped listening. For she knew that every tree, every path, and every stranger might hold a story waiting to be found. And in sharing those stories, in music and in life, she found her own.\n",
        "\n",
        "\"\"\""
      ],
      "metadata": {
        "id": "1oDLiSepqfJg"
      },
      "execution_count": 18,
      "outputs": []
    },
    {
      "cell_type": "code",
      "source": [
        "# tokenizing the text\n",
        "sentences = sent_tokenize(text)\n"
      ],
      "metadata": {
        "id": "T_Xaw6bmqpVr"
      },
      "execution_count": 19,
      "outputs": []
    },
    {
      "cell_type": "code",
      "source": [
        "# remove the stopwords and stem words in sentences\n",
        "stemmer = PorterStemmer()\n",
        "stop_words = set(stopwords.words('english'))\n",
        "words = []\n",
        "for sentence in sentences:\n",
        "    for word in nltk.word_tokenize(sentence):\n",
        "        if word not in stop_words and word.isalpha():\n",
        "            words.append(stemmer.stem(word))\n",
        "# words = [stemmer.stem(word.lower()) for word in words if word.isalnum() and word.lower() not in stop_words]"
      ],
      "metadata": {
        "id": "Ie4ORCnGrXid"
      },
      "execution_count": 20,
      "outputs": []
    },
    {
      "cell_type": "code",
      "source": [
        "# frequency of each words\n",
        "freq_dist = nltk.FreqDist(words)\n"
      ],
      "metadata": {
        "id": "i6fKK79asRZL"
      },
      "execution_count": 21,
      "outputs": []
    },
    {
      "cell_type": "code",
      "source": [
        "# getting the top 10 most frequent words\n",
        "top_words = [word[0] for word in freq_dist.most_common(10)]\n"
      ],
      "metadata": {
        "id": "GvnHh3SWsT8G"
      },
      "execution_count": 22,
      "outputs": []
    },
    {
      "cell_type": "markdown",
      "source": [],
      "metadata": {
        "id": "Y84p7aXFsjry"
      }
    },
    {
      "cell_type": "code",
      "source": [
        "# create 3 sentences with most frequent words\n",
        "summary = []\n",
        "for sentence in sentences:\n",
        "    sentence_words = nltk.word_tokenize(sentence.lower())\n",
        "    sentence_score = 0\n",
        "    for word in sentence_words:\n",
        "        if stemmer.stem(word) in top_words:\n",
        "            sentence_score += 1\n",
        "    summary.append((sentence,sentence_score))\n",
        "for sentence in nlargest(3,summary,key = lambda x : x[1]):\n",
        "    print(sentence[0])\n",
        ""
      ],
      "metadata": {
        "colab": {
          "base_uri": "https://localhost:8080/"
        },
        "id": "dUx0FhRLs_zk",
        "outputId": "f2165c79-c9c2-4421-fe32-f8bb0c36eec8"
      },
      "execution_count": 24,
      "outputs": [
        {
          "output_type": "stream",
          "name": "stdout",
          "text": [
            "He still lived in the forest, but villagers came to him for repairs, for music, for lessons.\n",
            "The hidden path was no longer forgotten, trodden now by villagers seeking melodies or simply curious to see the old man who had brought music back.\n",
            "\n",
            "Once upon a time, in a quaint little village nestled beside a whispering forest, lived a curious girl named Elara.\n"
          ]
        }
      ]
    },
    {
      "cell_type": "code",
      "source": [],
      "metadata": {
        "id": "oqqH07K5tO2e"
      },
      "execution_count": null,
      "outputs": []
    }
  ]
}